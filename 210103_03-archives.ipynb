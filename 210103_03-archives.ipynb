{
 "cells": [
  {
   "cell_type": "markdown",
   "metadata": {},
   "source": [
    "# 210103 Introduction to Earth System Data\n"
   ]
  },
  {
   "cell_type": "markdown",
   "metadata": {},
   "source": [
    "Accessing archives, see [Extra - resources](piggy/Fall2019/DE/DE-Earth/Extra)"
   ]
  },
  {
   "cell_type": "markdown",
   "metadata": {},
   "source": [
    "Archives can have various degrees of complexity. Typically the easier is the archive structure (e.g. just an FTP with several directories and files) the more workload is on the user/scientist side, i.e.:\n",
    "\n",
    "* discover data\n",
    "* find data\n",
    "* download data\n",
    "* access data\n",
    "* visualise data\n",
    "* analyse data"
   ]
  },
  {
   "cell_type": "markdown",
   "metadata": {},
   "source": [
    "# FTP/HTTP access\n",
    "\n",
    "if the structure of the archive is either known to the user, or easy and well-documented, and file names meaningful, one could access directly via http.\n",
    "\n",
    "## Example: Remote Sensing\n",
    "e.g. from the University of Maryland Global Land Cover Facility. Landsat data archive e.g.\n",
    "\n",
    "ftp://ftp.glcf.umd.edu/glcf/Landsat/\n",
    "\n",
    "```\n",
    "index of ftp://ftp.glcf.umd.edu/glcf/Landsat/WRS2/p001/r007/p001r007_5dx19880719.TM-GLS1990/\n",
    "\n",
    "Name \tSize \tLast Modified\n",
    "File:p001r007_5dt19880719_z26_10.tif.gz\n",
    "\t2340 KB \t23.04.09 \t00:00:00 CEST\n",
    "File:p001r007_5dt19880719_z26_20.tif.gz\n",
    "\t16735 KB \t23.04.09 \t00:00:00 CEST\n",
    "File:p001r007_5dt19880719_z26_30.tif.gz\n",
    "\t17603 KB \t23.04.09 \t00:00:00 CEST\n",
    "File:p001r007_5dt19880719_z26_40.tif.gz\n",
    "\t16010 KB \t23.04.09 \t00:00:00 CEST\n",
    "File:p001r007_5dt19880719_z26_50.tif.gz\n",
    "\t14610 KB \t23.04.09 \t00:00:00 CEST\n",
    "File:p001r007_5dt19880719_z26_60.tif.gz\n",
    "\t8471 KB \t23.04.09 \t00:00:00 CEST\n",
    "File:p001r007_5dt19880719_z26_70.tif.gz\n",
    "\t12709 KB \t23.04.09 \t00:00:00 CEST\n",
    "File:p001r007_5dx19880719.742.browse.jpg\n",
    "\t145 KB \t04.08.09 \t00:00:00 CEST\n",
    "File:p001r007_5dx19880719.742.preview.jpg\n",
    "\t9 KB \t04.08.09 \t00:00:00 CEST\n",
    "File:p001r007_5dx19880719.browse.jpg\n",
    "\t101 KB \t04.08.09 \t00:00:00 CEST\n",
    "File:p001r007_5dx19880719.preview.jpg\n",
    "\t6 KB \t04.08.09 \t00:00:00 CEST\n",
    "File:p001r007_5x19880719.met\n",
    "\t4 KB \t23.04.09 \t00:00:00 CEST\n",
    "```\n",
    "\n",
    "browse (quicklook) of data:\n",
    "\n",
    "<img src=\"./images/p001r007_5dx19880719.742.browse.jpg\" width=\"350px\">\n",
    "\n",
    "\n",
    "\n",
    "## Example: Climate Science\n",
    "\n",
    "E.g. from [NOAA data access](https://www.ncdc.noaa.gov/data-access), e.g. for [NOAA paleoclimatology data](https://www.ncdc.noaa.gov/data-access/paleoclimatology-data/datasets/historical):\n",
    "\n",
    "ftp://ftp.ncdc.noaa.gov/pub/data/paleo/historical/\n",
    "\n",
    "```\n",
    "Index of ftp://ftp.ncdc.noaa.gov/pub/data/paleo/historical/\n",
    "\n",
    "Up to higher level directory\n",
    "Name \tSize \tLast Modified\n",
    "alps\n",
    "\t\t25.05.11 \t00:00:00 CEST\n",
    "china\n",
    "\t\t25.05.11 \t00:00:00 CEST\n",
    "france\n",
    "\t\t25.05.11 \t00:00:00 CEST\n",
    "japan\n",
    "\t\t25.05.11 \t00:00:00 CEST\n",
    "switzerland\n",
    "\t\t25.05.11 \t00:00:00 CEST\n",
    "africa\n",
    "\t\t18.05.15 \t00:00:00 CEST\n",
    "asia\n",
    "\t\t11.06.07 \t00:00:00 CEST\n",
    "caribbean\n",
    "\t\t04.05.16 \t00:00:00 CEST\n",
    "europe\n",
    "\t\t31.01.18 \t00:09:00 CET\n",
    "europe-seasonal-files\n",
    "\t\t16.08.12 \t00:00:00 CEST\n",
    "north_atlantic\n",
    "\t\t04.05.16 \t00:00:00 CEST\n",
    "northamerica\n",
    "\t\t13.10.17 \t13:05:00 CEST\n",
    "pacific\n",
    "\t\t05.10.06 \t00:00:00 CEST\n",
    "southamerica\n",
    "\t\t15.09.09 \t00:00:00 CEST\n",
    "File:documentary.pdf\n",
    "\t328 KB \t28.01.15 \t00:00:00 CET\n",
    "File:europe-seasonal.txt\n",
    "\t38 KB \t14.11.06 \t00:00:00 CET\n",
    "File:kuettel2009readme.txt\n",
    "\t7 KB \t05.05.09 \t00:00:00 CEST\n",
    "File:kuettel2009slp.txt\n",
    "\t2900 KB \t20.04.09 \t00:00:00 CEST\n",
    "```\n"
   ]
  },
  {
   "cell_type": "markdown",
   "metadata": {},
   "source": [
    "# Web access and form filling\n",
    "\n",
    "\n",
    "E.g. from [NOAA data access](https://www.ncdc.noaa.gov/data-access), e.g. for [NOAA paleoclimatology data](https://www.ncdc.noaa.gov/data-access/paleoclimatology-data/datasets/historical):\n",
    "\n",
    "https://www.ncdc.noaa.gov/paleo-search/"
   ]
  },
  {
   "cell_type": "markdown",
   "metadata": {},
   "source": [
    "# Web mapping interfaces - search\n",
    "\n",
    "E.g. from [NOAA data access](https://www.ncdc.noaa.gov/data-access), e.g. for [NOAA paleoclimatology data](https://www.ncdc.noaa.gov/data-access/paleoclimatology-data/datasets/historical):\n",
    "\n",
    "https://gis.ncdc.noaa.gov/maps/ncei/paleo?layers=0001\n"
   ]
  },
  {
   "cell_type": "markdown",
   "metadata": {},
   "source": [
    "# Web mapping interfaces - access and analyse online\n",
    "\n",
    "\n",
    "E.g. [Giovanni tool](https://giovanni.gsfc.nasa.gov/giovanni/)"
   ]
  },
  {
   "cell_type": "markdown",
   "metadata": {},
   "source": [
    "#  API / programmatic data access\n",
    "\n",
    "E.g. \n",
    "\n",
    "* [NASA Earth data access with python](https://wiki.earthdata.nasa.gov/display/EL/How+To+Access+Data+With+Python)\n",
    "\n",
    "* [Accessing Pangaea data programmatically - R](https://www.fromthebottomoftheheap.net/2016/12/16/pangaea-r-open-palaeo-data/)"
   ]
  },
  {
   "cell_type": "markdown",
   "metadata": {},
   "source": [
    "## WCS / OGC"
   ]
  },
  {
   "cell_type": "markdown",
   "metadata": {},
   "source": [
    "Data can be accessed via various stanards. Geographic data, either raster or vector, can use several of the [Open Geospatial Consortium](http://www.opengeospatial.org) standards and interfaces.\n",
    "\n",
    "An introduction to OGC web services is provided e.g. on the [EarthServer Geopython tutorial](https://nbviewer.jupyter.org/github/earthserver-eu/geopython_workshop_2017/blob/master/Intro_to_WCS.ipynb).\n",
    "\n",
    "Examples are taken and/or modified from the [WCS/WCPS domain examples (Geophython 2017)](https://nbviewer.jupyter.org/github/earthserver-eu/geopython_workshop_2017/blob/master/Domain_examples.ipynb)\n"
   ]
  },
  {
   "cell_type": "markdown",
   "metadata": {},
   "source": [
    "### Climate Science"
   ]
  },
  {
   "cell_type": "markdown",
   "metadata": {},
   "source": [
    "An introduction on time series extraction form climate science datasets is provided by the [ECMWF/EarthServer Time-series retrieval - Climate Sciences](https://nbviewer.jupyter.org/github/earthserver-eu/geospatial-workflow-with-wcps/blob/master/Time-series-retrieval_climate_sciences.ipynb)"
   ]
  },
  {
   "cell_type": "markdown",
   "metadata": {},
   "source": [
    "Some basic data extarction from weather databases is described on [Time-series retrieval - Climate Sciences](https://nbviewer.jupyter.org/github/earthserver-eu/geospatial-workflow-with-wcps/blob/master/Time-series-retrieval_climate_sciences.ipynb)\n",
    "\n",
    "The following example (courtesy A. Bonanni, ECMWF) creates a global map of the temperature at 2m height, dyncamically queried."
   ]
  },
  {
   "cell_type": "markdown",
   "metadata": {},
   "source": [
    "#### Load required libraries"
   ]
  },
  {
   "cell_type": "code",
   "execution_count": 2,
   "metadata": {
    "collapsed": true
   },
   "outputs": [],
   "source": [
    "import time\n",
    "import datetime\n",
    "import requests\n",
    "import numpy as np\n",
    "import matplotlib.pyplot as plt\n",
    "import matplotlib.image as mpimg"
   ]
  },
  {
   "cell_type": "markdown",
   "metadata": {},
   "source": [
    "#### Helper functions"
   ]
  },
  {
   "cell_type": "markdown",
   "metadata": {},
   "source": [
    "See also [Example of calculating global monthly anomalies of surface temperature](https://nbviewer.jupyter.org/github/earthserver-eu/geospatial-workflow-with-wcps/blob/master/Monthly-averages_climate_sciences.ipynb)"
   ]
  },
  {
   "cell_type": "markdown",
   "metadata": {},
   "source": [
    "### Marine science"
   ]
  },
  {
   "cell_type": "markdown",
   "metadata": {},
   "source": [
    " for northern latitudes I.E. europe coast you will get better results between apr-sept"
   ]
  },
  {
   "cell_type": "code",
   "execution_count": 4,
   "metadata": {
    "collapsed": true
   },
   "outputs": [],
   "source": [
    "endpoint = \"http://rsg.pml.ac.uk/rasdaman/ows\"\n",
    "\n",
    "coverage = \"OCCCI_V3_monthly_chlor_a\""
   ]
  },
  {
   "cell_type": "markdown",
   "metadata": {},
   "source": [
    "see also e.g. [PML/EarthServer matchup tool](https://nbviewer.jupyter.org/github/earthserver-eu/geospatial-workflow-with-wcps/blob/master/Match-up_tool_marine_sciences.ipynb)"
   ]
  },
  {
   "cell_type": "markdown",
   "metadata": {},
   "source": [
    "### Earth Observation"
   ]
  },
  {
   "cell_type": "markdown",
   "metadata": {},
   "source": [
    "Materials are derived form the notebooks from [MEEO/EarthServer](http://jupyter.eodataservice.org/) (free registration required). Courtesy Simone Mantovani."
   ]
  },
  {
   "cell_type": "markdown",
   "metadata": {},
   "source": [
    "#### Endpoint inizialisation\n",
    "\n",
    "Use the getCapabilities service to connect to the MEEO endpoint"
   ]
  },
  {
   "cell_type": "code",
   "execution_count": 10,
   "metadata": {},
   "outputs": [
    {
     "name": "stdout",
     "output_type": "stream",
     "text": [
      "time for GetCapabilities: 0.00013399124145507812 s\n",
      "None\n"
     ]
    }
   ],
   "source": [
    "from owslib.wcs import WebCoverageService\n",
    "import time\n",
    "\n",
    "start = time.time()\n",
    "my_wcs = WebCoverageService('https://eodataservice.org/dar05?', version='2.0.0')\n",
    "print ( \"time for GetCapabilities: %s s\" %( time.time() - start ) )\n",
    "\n",
    "print(my_wcs)\n",
    "# for coverage_name in my_wcs.contents.keys():\n",
    "#     if coverage_name.startswith( \"SoilMoisture\" ):\n",
    "#         print ( coverage_name )"
   ]
  },
  {
   "cell_type": "markdown",
   "metadata": {},
   "source": [
    "see also (not working anymore ;( )\n",
    "\n",
    "https://nbviewer.jupyter.org/github/earthserver-eu/geopython_workshop_2017/blob/master/Exercises.ipynb"
   ]
  },
  {
   "cell_type": "code",
   "execution_count": 36,
   "metadata": {
    "collapsed": true
   },
   "outputs": [],
   "source": [
    "# see also http://sentinelhub-py.readthedocs.io/en/latest/examples/ogc_request.html"
   ]
  },
  {
   "cell_type": "markdown",
   "metadata": {},
   "source": [
    "## Pangaea.de"
   ]
  },
  {
   "cell_type": "code",
   "execution_count": 63,
   "metadata": {
    "collapsed": true
   },
   "outputs": [],
   "source": [
    "# see https://git.geomar.de/isos/hands-on/blob/e2d93b6bb99e673a3dc0f432ef3dff6d7bbc79db/boknis.ipynb"
   ]
  },
  {
   "cell_type": "markdown",
   "metadata": {},
   "source": [
    "### Search pangaea.de to retrieve the data URL\n",
    "\n",
    "<img src=\"./images/pangaea.de.jpg\" width=600px>"
   ]
  },
  {
   "cell_type": "markdown",
   "metadata": {},
   "source": [
    "### Retrieve the data URL and check"
   ]
  },
  {
   "cell_type": "code",
   "execution_count": 21,
   "metadata": {},
   "outputs": [
    {
     "name": "stdout",
     "output_type": "stream",
     "text": [
      "/* DATA DESCRIPTION:\n",
      "Citation:\tBange, Hermann W; Malien, Frank (2015): Hydrochemistry from time series station Boknis Eck from 1957 to 2014. PANGAEA, https://doi.org/10.1594/PANGAEA.855693\n",
      "Related to:\tLennartz, Sinikka; Lehmann, Andreas; Herrford, Josefine; Malien, Frank; Hansen, Hans Peter; Biester, Harald; Bange, Hermann W (2014): Long-term trends at the Boknis Eck time series station (Baltic Sea), 1957–2013: does climate change counteract the decline in eutrophication? Biogeosciences, 11(22), 6323-6339, https://doi.org/10.5194/bg-11-6323-2014\n",
      "Source data set:\tBange, Hermann W; Malien, Frank (2014): Boknis Eck Timeseries Database. http://www.bokniseck.de/\n",
      "Coverage:\tLATITUDE: 54.529500 * LONGITUDE: 10.039330\n",
      "\tDATE/TIME START: 1957-04-30T00:00:00 * DATE/TIME END: 2014-12-16T11:06:33\n",
      "\tMINIMUM DEPTH, water: 1 m * MAXIMUM DEPTH, water: 35 m\n",
      "Event(s):\tBoknis_Eck_1957 * LATITUDE: 54.529500 * LONGITUDE: 10.039330 * DATE/TIME: 1957-04-30T00:00:00 * DEVICE: CTD/Rosette (CTD-RO)\n",
      "Comment:\tFlags according to WOCE standard\n",
      "Parameter(s):\tDATE/TIME (Date/Time) * GEOCODE * PI: Bange, Hermann W (https://orcid.org/0000-0003-4053-1394, hbange@geomar.de, http://www.geomar.de/mitarbeiter/fb2/ch/hbange/)\n",
      "\tLatitude of event (Latitude)\n",
      "\tLongitude of event (Longitude)\n",
      "\tDEPTH, water [m] (Depth water) * GEOCODE * PI: Bange, Hermann W (https://orcid.org/0000-0003-4053-1394, hbange@geomar.de, http://www.geomar.de/mitarbeiter/fb2/ch/hbange/)\n",
      "\tCast number (Cast) * PI: Bange, Hermann W (https://orcid.org/0000-0003-4053-1394, hbange@geomar.de, http://www.geomar.de/mitarbeiter/fb2/ch/hbange/)\n",
      "\tSample code/label (Sample label) * PI: Bange, Hermann W (https://orcid.org/0000-0003-4053-1394, hbange@geomar.de, http://www.geomar.de/mitarbeiter/fb2/ch/hbange/)\n",
      "\tChlorophyll a [µg/l] (Chl a) * PI: Bange, Hermann W (https://orcid.org/0000-0003-4053-1394, hbange@geomar.de, http://www.geomar.de/mitarbeiter/fb2/ch/hbange/)\n",
      "\tNitrate [µmol/l] ([NO3]-) * PI: Bange, Hermann W (https://orcid.org/0000-0003-4053-1394, hbange@geomar.de, http://www.geomar.de/mitarbeiter/fb2/ch/hbange/)\n",
      "\tFlag (Flag) * PI: Bange, Hermann W (https://orcid.org/0000-0003-4053-1394, hbange@geomar.de, http://www.geomar.de/mitarbeiter/fb2/ch/hbange/) * COMMENT: NO3\n",
      "\tNitrite [µmol/l] ([NO2]-) * PI: Bange, Hermann W (https://orcid.org/0000-0003-4053-1394, hbange@geomar.de, http://www.geomar.de/mitarbeiter/fb2/ch/hbange/)\n",
      "\tFlag (Flag) * PI: Bange, Hermann W (https://orcid.org/0000-0003-4053-1394, hbange@geomar.de, http://www.geomar.de/mitarbeiter/fb2/ch/hbange/) * COMMENT: NO2\n",
      "\tOxygen [µmol/kg] (OXYGEN) * PI: Bange, Hermann W (https://orcid.org/0000-0003-4053-1394, hbange@geomar.de, http://www.geomar.de/mitarbeiter/fb2/ch/hbange/)\n",
      "\tFlag (Flag) * PI: Bange, Hermann W (https://orcid.org/0000-0003-4053-1394, hbange@geomar.de, http://www.geomar.de/mitarbeiter/fb2/ch/hbange/) * COMMENT: Oxygen\n",
      "\tPhosphate [µmol/l] ([PO4]3-) * PI: Bange, Hermann W (https://orcid.org/0000-0003-4053-1394, hbange@geomar.de, http://www.geomar.de/mitarbeiter/fb2/ch/hbange/)\n",
      "\tFlag (Flag) * PI: Bange, Hermann W (https://orcid.org/0000-0003-4053-1394, hbange@geomar.de, http://www.geomar.de/mitarbeiter/fb2/ch/hbange/) * COMMENT: PO4\n",
      "\tSalinity (Sal) * PI: Bange, Hermann W (https://orcid.org/0000-0003-4053-1394, hbange@geomar.de, http://www.geomar.de/mitarbeiter/fb2/ch/hbange/)\n",
      "\tSilicon dioxide [µmol/l] (SiO2) * PI: Bange, Hermann W (https://orcid.org/0000-0003-4053-1394, hbange@geomar.de, http://www.geomar.de/mitarbeiter/fb2/ch/hbange/)\n",
      "\tFlag (Flag) * PI: Bange, Hermann W (https://orcid.org/0000-0003-4053-1394, hbange@geomar.de, http://www.geomar.de/mitarbeiter/fb2/ch/hbange/) * COMMENT: SiO2\n",
      "\tTemperature, water [°C] (Temp) * PI: Bange, Hermann W (https://orcid.org/0000-0003-4053-1394, hbange@geomar.de, http://www.geomar.de/mitarbeiter/fb2/ch/hbange/)\n",
      "License:\tCreative Commons Attribution 3.0 Unported (CC-BY-3.0)\n",
      "Size:\t44574 data points\n",
      "*/\n",
      "Date/Time\tLatitude\tLongitude\tDepth water [m]\tCast\tSample label\tChl a [µg/l]\t[NO3]- [µmol/l]\tFlag (NO3)\t\n"
     ]
    }
   ],
   "source": [
    "data_url = 'https://doi.pangaea.de/10.1594/PANGAEA.855693?format=text' # replace this with your url\n",
    "#get data from the url using package requests\n",
    "import requests\n",
    "r=requests.get(data_url)\n",
    "data=r.text\n",
    "print(data[:4000]) #see what's inside"
   ]
  },
  {
   "cell_type": "code",
   "execution_count": 24,
   "metadata": {
    "collapsed": true
   },
   "outputs": [],
   "source": [
    "#saving the data\n",
    "with open('./output/boknis.txt', 'w+') as outfile: outfile.write(data)"
   ]
  },
  {
   "cell_type": "code",
   "execution_count": 25,
   "metadata": {
    "collapsed": true
   },
   "outputs": [],
   "source": [
    "# Header on Pangaea is marked with /* HEADER */\n",
    "# split data and header:\n",
    "h, d = data.split('*/')"
   ]
  },
  {
   "cell_type": "code",
   "execution_count": 26,
   "metadata": {},
   "outputs": [
    {
     "name": "stdout",
     "output_type": "stream",
     "text": [
      "/* DATA DESCRIPTION:\n",
      "Citation:\tBange, Hermann W; Malien, Frank (2015): Hydrochemistry from time series station Boknis Eck from 1957 to 2014. PANGAEA, https://doi.org/10.1594/PANGAEA.855693\n",
      "Related to:\tLennartz, Sinikka; Lehmann, Andreas; Herrford, Josefine; Malien, Frank; Hansen, Hans Peter; Biester, Harald; Bange, Hermann W (2014): Long-term trends at the Boknis Eck time series station (Baltic Sea), 1957–2013: does climate change counteract the decline in eutrophication? Biogeosciences, 11(22), 6323-6339, https://doi.org/10.5194/bg-11-6323-2014\n",
      "Source data set:\tBange, Hermann W; Malien, Frank (2014): Boknis Eck Timeseries Database. http://www.bokniseck.de/\n",
      "Coverage:\tLATITUDE: 54.529500 * LONGITUDE: 10.039330\n",
      "\tDATE/TIME START: 1957-04-30T00:00:00 * DATE/TIME END: 2014-12-16T11:06:33\n",
      "\tMINIMUM DEPTH, water: 1 m * MAXIMUM DEPTH, water: 35 m\n",
      "Event(s):\tBoknis_Eck_1957 * LATITUDE: 54.529500 * LONGITUDE: 10.039330 * DATE/TIME: 1957-04-30T00:00:00 * DEVICE: CTD/Rosette (CTD-RO)\n",
      "Comment:\tFlags according to WOCE standard\n",
      "Parameter(s):\tDATE/TIME (Date/Time) * GEOCODE * PI: Bange, Hermann W (https://orcid.org/0000-0003-4053-1394, hbange@geomar.de, http://www.geomar.de/mitarbeiter/fb2/ch/hbange/)\n",
      "\tLatitude of event (Latitude)\n",
      "\tLongitude of event (Longitude)\n",
      "\tDEPTH, water [m] (Depth water) * GEOCODE * PI: Bange, Hermann W (https://orcid.org/0000-0003-4053-1394, hbange@geomar.de, http://www.geomar.de/mitarbeiter/fb2/ch/hbange/)\n",
      "\tCast number (Cast) * PI: Bange, Hermann W (https://orcid.org/0000-0003-4053-1394, hbange@geomar.de, http://www.geomar.de/mitarbeiter/fb2/ch/hbange/)\n",
      "\tSample code/label (Sample label) * PI: Bange, Hermann W (https://orcid.org/0000-0003-4053-1394, hbange@geomar.de, http://www.geomar.de/mitarbeiter/fb2/ch/hbange/)\n",
      "\tChlorophyll a [µg/l] (Chl a) * PI: Bange, Hermann W (https://orcid.org/0000-0003-4053-1394, hbange@geomar.de, http://www.geomar.de/mitarbeiter/fb2/ch/hbange/)\n",
      "\tNitrate [µmol/l] ([NO3]-) * PI: Bange, Hermann W (https://orcid.org/0000-0003-4053-1394, hbange@geomar.de, http://www.geomar.de/mitarbeiter/fb2/ch/hbange/)\n",
      "\tFlag (Flag) * PI: Bange, Hermann W (https://orcid.org/0000-0003-4053-1394, hbange@geomar.de, http://www.geomar.de/mitarbeiter/fb2/ch/hbange/) * COMMENT: NO3\n",
      "\tNitrite [µmol/l] ([NO2]-) * PI: Bange, Hermann W (https://orcid.org/0000-0003-4053-1394, hbange@geomar.de, http://www.geomar.de/mitarbeiter/fb2/ch/hbange/)\n",
      "\tFlag (Flag) * PI: Bange, Hermann W (https://orcid.org/0000-0003-4053-1394, hbange@geomar.de, http://www.geomar.de/mitarbeiter/fb2/ch/hbange/) * COMMENT: NO2\n",
      "\tOxygen [µmol/kg] (OXYGEN) * PI: Bange, Hermann W (https://orcid.org/0000-0003-4053-1394, hbange@geomar.de, http://www.geomar.de/mitarbeiter/fb2/ch/hbange/)\n",
      "\tFlag (Flag) * PI: Bange, Hermann W (https://orcid.org/0000-0003-4053-1394, hbange@geomar.de, http://www.geomar.de/mitarbeiter/fb2/ch/hbange/) * COMMENT: Oxygen\n",
      "\tPhosphate [µmol/l] ([PO4]3-) * PI: Bange, Hermann W (https://orcid.org/0000-0003-4053-1394, hbange@geomar.de, http://www.geomar.de/mitarbeiter/fb2/ch/hbange/)\n",
      "\tFlag (Flag) * PI: Bange, Hermann W (https://orcid.org/0000-0003-4053-1394, hbange@geomar.de, http://www.geomar.de/mitarbeiter/fb2/ch/hbange/) * COMMENT: PO4\n",
      "\tSalinity (Sal) * PI: Bange, Hermann W (https://orcid.org/0000-0003-4053-1394, hbange@geomar.de, http://www.geomar.de/mitarbeiter/fb2/ch/hbange/)\n",
      "\tSilicon dioxide [µmol/l] (SiO2) * PI: Bange, Hermann W (https://orcid.org/0000-0003-4053-1394, hbange@geomar.de, http://www.geomar.de/mitarbeiter/fb2/ch/hbange/)\n",
      "\tFlag (Flag) * PI: Bange, Hermann W (https://orcid.org/0000-0003-4053-1394, hbange@geomar.de, http://www.geomar.de/mitarbeiter/fb2/ch/hbange/) * COMMENT: SiO2\n",
      "\tTemperature, water [°C] (Temp) * PI: Bange, Hermann W (https://orcid.org/0000-0003-4053-1394, hbange@geomar.de, http://www.geomar.de/mitarbeiter/fb2/ch/hbange/)\n",
      "License:\tCreative Commons Attribution 3.0 Unported (CC-BY-3.0)\n",
      "Size:\t44574 data points\n",
      "\n"
     ]
    }
   ],
   "source": [
    "print(h)"
   ]
  },
  {
   "cell_type": "code",
   "execution_count": 35,
   "metadata": {},
   "outputs": [
    {
     "name": "stdout",
     "output_type": "stream",
     "text": [
      "\n",
      "Date/Time\tLatitude\tLongitude\tDepth water [m]\tCast\tSample label\tChl a [µg/l]\t[NO3]- [µmol/l]\tFlag (NO3)\t[NO2]- [µmol/l]\tFlag (NO2)\tOXYGEN [µmol/kg]\tFlag (Oxygen)\t[PO4]3- [µmol/l]\tFlag (PO4)\tSal\tSiO2 [µmol/l]\tFlag (SiO2)\tTemp [°C]\n",
      "1957-04-30T00:00:00\t54.5295\t10.0393\t1\t1\t1\t\t\t\t\t\t321.9\t\t0.000\t\t15.30\t\t\t7.70\n",
      "1957-04-30T00:00:00\t54.5295\t10.0393\t5\t1\t1\t\t\t\t\t\t325.0\t\t0.010\t\t15.30\t\t\t5.40\n",
      "1957-04-30T00:00:00\t54\n"
     ]
    }
   ],
   "source": [
    "print(d[:400])"
   ]
  },
  {
   "cell_type": "code",
   "execution_count": 27,
   "metadata": {},
   "outputs": [
    {
     "name": "stdout",
     "output_type": "stream",
     "text": [
      "['',\n",
      " 'Date/Time\\tLatitude\\tLongitude\\tDepth water [m]\\tCast\\tSample label\\tChl a '\n",
      " '[µg/l]\\t[NO3]- [µmol/l]\\tFlag (NO3)\\t[NO2]- [µmol/l]\\tFlag (NO2)\\tOXYGEN '\n",
      " '[µmol/kg]\\tFlag (Oxygen)\\t[PO4]3- [µmol/l]\\tFlag (PO4)\\tSal\\tSiO2 [µmol/l]\\t'\n",
      " 'Flag (SiO2)\\tTemp [°C]',\n",
      " '1957-04-30T00:00:00\\t54.5295\\t10.0393\\t1\\t1\\t1\\t\\t\\t\\t\\t\\t321.9\\t\\t0.000\\t\\t'\n",
      " '15.30\\t\\t\\t7.70',\n",
      " '1957-04-30T00:00:00\\t54.5295\\t10.0393\\t5\\t1\\t1\\t\\t\\t\\t\\t\\t325.0\\t\\t0.010\\t\\t'\n",
      " '15.30\\t\\t\\t5.40',\n",
      " '1957-04-30T00:00:00\\t54.5295\\t10.0393\\t10\\t1\\t1\\t\\t\\t\\t\\t\\t325.0\\t\\t0.020\\t\\t'\n",
      " '15.70\\t\\t\\t6.10']\n"
     ]
    }
   ],
   "source": [
    "#parse data into a list\n",
    "lines=d.split('\\n')\n",
    "#use pprint to pretty-print a list\n",
    "import pprint\n",
    "pprint.pprint(lines[:5])"
   ]
  },
  {
   "cell_type": "code",
   "execution_count": 28,
   "metadata": {},
   "outputs": [
    {
     "name": "stdout",
     "output_type": "stream",
     "text": [
      "['Date/Time\\tLatitude\\tLongitude\\tDepth water [m]\\tCast\\tSample label\\tChl a '\n",
      " '[µg/l]\\t[NO3]- [µmol/l]\\tFlag (NO3)\\t[NO2]- [µmol/l]\\tFlag (NO2)\\tOXYGEN '\n",
      " '[µmol/kg]\\tFlag (Oxygen)\\t[PO4]3- [µmol/l]\\tFlag (PO4)\\tSal\\tSiO2 [µmol/l]\\t'\n",
      " 'Flag (SiO2)\\tTemp [°C]',\n",
      " '1957-04-30T00:00:00\\t54.5295\\t10.0393\\t1\\t1\\t1\\t\\t\\t\\t\\t\\t321.9\\t\\t0.000\\t\\t'\n",
      " '15.30\\t\\t\\t7.70',\n",
      " '1957-04-30T00:00:00\\t54.5295\\t10.0393\\t5\\t1\\t1\\t\\t\\t\\t\\t\\t325.0\\t\\t0.010\\t\\t'\n",
      " '15.30\\t\\t\\t5.40',\n",
      " '1957-04-30T00:00:00\\t54.5295\\t10.0393\\t10\\t1\\t1\\t\\t\\t\\t\\t\\t325.0\\t\\t0.020\\t\\t'\n",
      " '15.70\\t\\t\\t6.10',\n",
      " '1957-04-30T00:00:00\\t54.5295\\t10.0393\\t15\\t1\\t1\\t\\t\\t\\t\\t\\t318.8\\t\\t0.030\\t\\t'\n",
      " '16.40\\t\\t\\t4.50']\n"
     ]
    }
   ],
   "source": [
    "#the first element is empty, so we remove it:\n",
    "lines=lines[1:]\n",
    "pprint.pprint(lines[:5])"
   ]
  },
  {
   "cell_type": "code",
   "execution_count": 29,
   "metadata": {},
   "outputs": [
    {
     "name": "stdout",
     "output_type": "stream",
     "text": [
      "[['Date/Time',\n",
      "  'Latitude',\n",
      "  'Longitude',\n",
      "  'Depth water [m]',\n",
      "  'Cast',\n",
      "  'Sample label',\n",
      "  'Chl a [µg/l]',\n",
      "  '[NO3]- [µmol/l]',\n",
      "  'Flag (NO3)',\n",
      "  '[NO2]- [µmol/l]',\n",
      "  'Flag (NO2)',\n",
      "  'OXYGEN [µmol/kg]',\n",
      "  'Flag (Oxygen)',\n",
      "  '[PO4]3- [µmol/l]',\n",
      "  'Flag (PO4)',\n",
      "  'Sal',\n",
      "  'SiO2 [µmol/l]',\n",
      "  'Flag (SiO2)',\n",
      "  'Temp [°C]'],\n",
      " ['1957-04-30T00:00:00',\n",
      "  '54.5295',\n",
      "  '10.0393',\n",
      "  '1',\n",
      "  '1',\n",
      "  '1',\n",
      "  '',\n",
      "  '',\n",
      "  '',\n",
      "  '',\n",
      "  '',\n",
      "  '321.9',\n",
      "  '',\n",
      "  '0.000',\n",
      "  '',\n",
      "  '15.30',\n",
      "  '',\n",
      "  '',\n",
      "  '7.70'],\n",
      " ['1957-04-30T00:00:00',\n",
      "  '54.5295',\n",
      "  '10.0393',\n",
      "  '5',\n",
      "  '1',\n",
      "  '1',\n",
      "  '',\n",
      "  '',\n",
      "  '',\n",
      "  '',\n",
      "  '',\n",
      "  '325.0',\n",
      "  '',\n",
      "  '0.010',\n",
      "  '',\n",
      "  '15.30',\n",
      "  '',\n",
      "  '',\n",
      "  '5.40']]\n"
     ]
    }
   ],
   "source": [
    "#convert this to list by separating at '\\t':\n",
    "dd=[q.split('\\t') for q in lines]\n",
    "pprint.pprint(dd[:3])"
   ]
  },
  {
   "cell_type": "code",
   "execution_count": 31,
   "metadata": {},
   "outputs": [
    {
     "name": "stdout",
     "output_type": "stream",
     "text": [
      "30\n"
     ]
    }
   ],
   "source": [
    "# At this point you can do many of the data analysis \n",
    "# by working directly with the list we've just created, \n",
    "# e.g. using list comprehensions and numpy, etc. \n",
    "# This is useful for debugging, but could be cumbersome for non-trivial tasks,\n",
    "# and slow for large datasets.\n",
    "#\n",
    "# Pandas is a python package for handling tabular data, which has methods \n",
    "# for data input-output and to various formats.\n",
    "#\n",
    "# First open the data file and find the number of lines in the header (remember that header ends with a '*/')\n",
    "\n",
    "i=0 # counter is defined outside the scope of the \"with\" block\n",
    "for line in open('./output/boknis.txt', 'r'): #read one line at a time\n",
    "    if line.find('*/')>-1: break # if there's '*/' on a line, exit loop and close the file\n",
    "    i+=1 # increment counter\n",
    "print(i)\n"
   ]
  },
  {
   "cell_type": "code",
   "execution_count": 33,
   "metadata": {
    "collapsed": true
   },
   "outputs": [],
   "source": [
    "q=open('./output/boknis.txt', 'r').readlines()"
   ]
  },
  {
   "cell_type": "code",
   "execution_count": 62,
   "metadata": {},
   "outputs": [
    {
     "data": {
      "text/plain": [
       "'Date/Time\\tLatitude\\tLongitude\\tDepth water [m]\\tCast\\tSample label\\tChl a [µg/l]\\t[NO3]- [µmol/l]\\tFlag (NO3)\\t[NO2]- [µmol/l]\\tFlag (NO2)\\tOXYGEN [µmol/kg]\\tFlag (Oxygen)\\t[PO4]3- [µmol/l]\\tFlag (PO4)\\tSal\\tSiO2 [µmol/l]\\tFlag (SiO2)\\tTemp [°C]\\n'"
      ]
     },
     "execution_count": 62,
     "metadata": {},
     "output_type": "execute_result"
    }
   ],
   "source": [
    "q[31]"
   ]
  },
  {
   "cell_type": "code",
   "execution_count": 35,
   "metadata": {},
   "outputs": [
    {
     "data": {
      "text/html": [
       "<div>\n",
       "<style scoped>\n",
       "    .dataframe tbody tr th:only-of-type {\n",
       "        vertical-align: middle;\n",
       "    }\n",
       "\n",
       "    .dataframe tbody tr th {\n",
       "        vertical-align: top;\n",
       "    }\n",
       "\n",
       "    .dataframe thead th {\n",
       "        text-align: right;\n",
       "    }\n",
       "</style>\n",
       "<table border=\"1\" class=\"dataframe\">\n",
       "  <thead>\n",
       "    <tr style=\"text-align: right;\">\n",
       "      <th></th>\n",
       "      <th>Date/Time</th>\n",
       "      <th>Latitude</th>\n",
       "      <th>Longitude</th>\n",
       "      <th>Depth water [m]</th>\n",
       "      <th>Cast</th>\n",
       "      <th>Sample label</th>\n",
       "      <th>Chl a [µg/l]</th>\n",
       "      <th>[NO3]- [µmol/l]</th>\n",
       "      <th>Flag (NO3)</th>\n",
       "      <th>[NO2]- [µmol/l]</th>\n",
       "      <th>Flag (NO2)</th>\n",
       "      <th>OXYGEN [µmol/kg]</th>\n",
       "      <th>Flag (Oxygen)</th>\n",
       "      <th>[PO4]3- [µmol/l]</th>\n",
       "      <th>Flag (PO4)</th>\n",
       "      <th>Sal</th>\n",
       "      <th>SiO2 [µmol/l]</th>\n",
       "      <th>Flag (SiO2)</th>\n",
       "      <th>Temp [°C]</th>\n",
       "    </tr>\n",
       "  </thead>\n",
       "  <tbody>\n",
       "    <tr>\n",
       "      <th>0</th>\n",
       "      <td>1957-04-30T00:00:00</td>\n",
       "      <td>54.5295</td>\n",
       "      <td>10.0393</td>\n",
       "      <td>1</td>\n",
       "      <td>1.0</td>\n",
       "      <td>1</td>\n",
       "      <td>NaN</td>\n",
       "      <td>NaN</td>\n",
       "      <td>NaN</td>\n",
       "      <td>NaN</td>\n",
       "      <td>NaN</td>\n",
       "      <td>321.9</td>\n",
       "      <td>NaN</td>\n",
       "      <td>0.00</td>\n",
       "      <td>NaN</td>\n",
       "      <td>15.3</td>\n",
       "      <td>NaN</td>\n",
       "      <td>NaN</td>\n",
       "      <td>7.7</td>\n",
       "    </tr>\n",
       "    <tr>\n",
       "      <th>1</th>\n",
       "      <td>1957-04-30T00:00:00</td>\n",
       "      <td>54.5295</td>\n",
       "      <td>10.0393</td>\n",
       "      <td>5</td>\n",
       "      <td>1.0</td>\n",
       "      <td>1</td>\n",
       "      <td>NaN</td>\n",
       "      <td>NaN</td>\n",
       "      <td>NaN</td>\n",
       "      <td>NaN</td>\n",
       "      <td>NaN</td>\n",
       "      <td>325.0</td>\n",
       "      <td>NaN</td>\n",
       "      <td>0.01</td>\n",
       "      <td>NaN</td>\n",
       "      <td>15.3</td>\n",
       "      <td>NaN</td>\n",
       "      <td>NaN</td>\n",
       "      <td>5.4</td>\n",
       "    </tr>\n",
       "    <tr>\n",
       "      <th>2</th>\n",
       "      <td>1957-04-30T00:00:00</td>\n",
       "      <td>54.5295</td>\n",
       "      <td>10.0393</td>\n",
       "      <td>10</td>\n",
       "      <td>1.0</td>\n",
       "      <td>1</td>\n",
       "      <td>NaN</td>\n",
       "      <td>NaN</td>\n",
       "      <td>NaN</td>\n",
       "      <td>NaN</td>\n",
       "      <td>NaN</td>\n",
       "      <td>325.0</td>\n",
       "      <td>NaN</td>\n",
       "      <td>0.02</td>\n",
       "      <td>NaN</td>\n",
       "      <td>15.7</td>\n",
       "      <td>NaN</td>\n",
       "      <td>NaN</td>\n",
       "      <td>6.1</td>\n",
       "    </tr>\n",
       "    <tr>\n",
       "      <th>3</th>\n",
       "      <td>1957-04-30T00:00:00</td>\n",
       "      <td>54.5295</td>\n",
       "      <td>10.0393</td>\n",
       "      <td>15</td>\n",
       "      <td>1.0</td>\n",
       "      <td>1</td>\n",
       "      <td>NaN</td>\n",
       "      <td>NaN</td>\n",
       "      <td>NaN</td>\n",
       "      <td>NaN</td>\n",
       "      <td>NaN</td>\n",
       "      <td>318.8</td>\n",
       "      <td>NaN</td>\n",
       "      <td>0.03</td>\n",
       "      <td>NaN</td>\n",
       "      <td>16.4</td>\n",
       "      <td>NaN</td>\n",
       "      <td>NaN</td>\n",
       "      <td>4.5</td>\n",
       "    </tr>\n",
       "    <tr>\n",
       "      <th>4</th>\n",
       "      <td>1957-04-30T00:00:00</td>\n",
       "      <td>54.5295</td>\n",
       "      <td>10.0393</td>\n",
       "      <td>20</td>\n",
       "      <td>1.0</td>\n",
       "      <td>1</td>\n",
       "      <td>NaN</td>\n",
       "      <td>NaN</td>\n",
       "      <td>NaN</td>\n",
       "      <td>NaN</td>\n",
       "      <td>NaN</td>\n",
       "      <td>300.0</td>\n",
       "      <td>NaN</td>\n",
       "      <td>0.06</td>\n",
       "      <td>NaN</td>\n",
       "      <td>17.0</td>\n",
       "      <td>NaN</td>\n",
       "      <td>NaN</td>\n",
       "      <td>4.3</td>\n",
       "    </tr>\n",
       "  </tbody>\n",
       "</table>\n",
       "</div>"
      ],
      "text/plain": [
       "             Date/Time  Latitude  Longitude  Depth water [m]  Cast  \\\n",
       "0  1957-04-30T00:00:00   54.5295    10.0393                1   1.0   \n",
       "1  1957-04-30T00:00:00   54.5295    10.0393                5   1.0   \n",
       "2  1957-04-30T00:00:00   54.5295    10.0393               10   1.0   \n",
       "3  1957-04-30T00:00:00   54.5295    10.0393               15   1.0   \n",
       "4  1957-04-30T00:00:00   54.5295    10.0393               20   1.0   \n",
       "\n",
       "   Sample label  Chl a [µg/l]  [NO3]- [µmol/l]  Flag (NO3)  [NO2]- [µmol/l]  \\\n",
       "0             1           NaN              NaN         NaN              NaN   \n",
       "1             1           NaN              NaN         NaN              NaN   \n",
       "2             1           NaN              NaN         NaN              NaN   \n",
       "3             1           NaN              NaN         NaN              NaN   \n",
       "4             1           NaN              NaN         NaN              NaN   \n",
       "\n",
       "   Flag (NO2)  OXYGEN [µmol/kg]  Flag (Oxygen)  [PO4]3- [µmol/l]  Flag (PO4)  \\\n",
       "0         NaN             321.9            NaN              0.00         NaN   \n",
       "1         NaN             325.0            NaN              0.01         NaN   \n",
       "2         NaN             325.0            NaN              0.02         NaN   \n",
       "3         NaN             318.8            NaN              0.03         NaN   \n",
       "4         NaN             300.0            NaN              0.06         NaN   \n",
       "\n",
       "    Sal  SiO2 [µmol/l]  Flag (SiO2)  Temp [°C]  \n",
       "0  15.3            NaN          NaN        7.7  \n",
       "1  15.3            NaN          NaN        5.4  \n",
       "2  15.7            NaN          NaN        6.1  \n",
       "3  16.4            NaN          NaN        4.5  \n",
       "4  17.0            NaN          NaN        4.3  "
      ]
     },
     "execution_count": 35,
     "metadata": {},
     "output_type": "execute_result"
    }
   ],
   "source": [
    "import pandas as pd\n",
    "df = pd.read_csv('./output/boknis.txt', sep='\\t', parse_dates=True, index_col=None, skiprows=i+1)\n",
    "df.head()"
   ]
  },
  {
   "cell_type": "code",
   "execution_count": 37,
   "metadata": {},
   "outputs": [
    {
     "data": {
      "image/png": "[encoded data removed]",
      "text/plain": [
       "<matplotlib.figure.Figure at 0x114e31c88>"
      ]
     },
     "metadata": {},
     "output_type": "display_data"
    }
   ],
   "source": [
    "#plot data from pandas using matplotlib\n",
    "import seaborn as sns\n",
    "import matplotlib.pyplot as plt\n",
    "sns.boxplot(x='Depth water [m]', y='Temp [°C]', data=df)\n",
    "plt.show()"
   ]
  },
  {
   "cell_type": "markdown",
   "metadata": {},
   "source": [
    "# Tasks\n",
    "\n",
    "## T3.1\n",
    "\n",
    "* Please try download at least 3 files (data products) of 3 different formats from any of the archives above (no programmatic access, download-only ones). Please track the provenance of the file (URL, FTP, basic metadata you can grab)\n",
    "\n",
    "## T3.2\n",
    "\n",
    "Please create a local directory with sub-directories for each of the data products. Please place in each directory the relevant file and as much metadata (e.g. in a simple text file, and/or with associated headers or alike).\n"
   ]
  },
  {
   "cell_type": "markdown",
   "metadata": {},
   "source": [
    "## T3.2\n",
    "\n",
    "Please get any data from Pangea."
   ]
  }
 ],
 "metadata": {
  "anaconda-cloud": {},
  "kernelspec": {
   "display_name": "Python 3",
   "language": "python",
   "name": "python3"
  },
  "language_info": {
   "codemirror_mode": {
    "name": "ipython",
    "version": 3
   },
   "file_extension": ".py",
   "mimetype": "text/x-python",
   "name": "python",
   "nbconvert_exporter": "python",
   "pygments_lexer": "ipython3",
   "version": "3.6.5"
  },
  "toc": {
   "nav_menu": {},
   "number_sections": true,
   "sideBar": true,
   "skip_h1_title": false,
   "toc_cell": false,
   "toc_position": {
    "height": "459px",
    "left": "0px",
    "right": "841px",
    "top": "111px",
    "width": "212px"
   },
   "toc_section_display": "block",
   "toc_window_display": true
  },
  "varInspector": {
   "cols": {
    "lenName": 16,
    "lenType": 16,
    "lenVar": 40
   },
   "kernels_config": {
    "python": {
     "delete_cmd_postfix": "",
     "delete_cmd_prefix": "del ",
     "library": "var_list.py",
     "varRefreshCmd": "print(var_dic_list())"
    },
    "r": {
     "delete_cmd_postfix": ") ",
     "delete_cmd_prefix": "rm(",
     "library": "var_list.r",
     "varRefreshCmd": "cat(var_dic_list()) "
    }
   },
   "types_to_exclude": [
    "module",
    "function",
    "builtin_function_or_method",
    "instance",
    "_Feature"
   ],
   "window_display": false
  }
 },
 "nbformat": 4,
 "nbformat_minor": 2
}
